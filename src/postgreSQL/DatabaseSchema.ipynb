{
 "cells": [
  {
   "cell_type": "markdown",
   "metadata": {},
   "source": [
    "Create Tables"
   ]
  },
  {
   "cell_type": "code",
   "execution_count": null,
   "metadata": {
    "vscode": {
     "languageId": "sql"
    }
   },
   "outputs": [],
   "source": [
    "CREATE TABLE quotation (\n",
    "\tquote_id INT GENERATED ALWAYS AS IDENTITY,\n",
    "\tcr_date DATE,\n",
    "\tsupplier_id INT NOT NULL,\n",
    "\tcustomer_id INT NOT NULL,\n",
    "\temployee_id INT NOT NULL,\n",
    "\tprice_total INT,\n",
    "\tPRIMARY KEY(quote_id));\n"
   ]
  },
  {
   "cell_type": "code",
   "execution_count": null,
   "metadata": {
    "vscode": {
     "languageId": "sql"
    }
   },
   "outputs": [],
   "source": [
    "CREATE TABLE product(\n",
    "\tproduct_id INT GENERATED ALWAYS AS IDENTITY,\n",
    "\tproduct_name VARCHAR(50) NOT NULL UNIQUE,\n",
    "\tproduct_desc VARCHAR(80),\n",
    "\tprice_1 DECIMAL NOT NULL,\n",
    "\tPRIMARY KEY(product_id)\n",
    ");"
   ]
  },
  {
   "cell_type": "code",
   "execution_count": null,
   "metadata": {
    "vscode": {
     "languageId": "sql"
    }
   },
   "outputs": [],
   "source": [
    "CREATE TABLE JunctOfferProd (\n",
    "\tquote_id INT,\n",
    "\tproduct_id INT,\n",
    "\tquantity INT,\n",
    "\tCONSTRAINT fk_quote\n",
    "\t\tFOREIGN KEY(quote_id)\n",
    "\t\t\tREFERENCES quotation(quote_id),\n",
    "\tCONSTRAINT fk_product\n",
    "\t\tFOREIGN KEY(product_id)\n",
    "\t\t\tREFERENCES product(product_id),\n",
    "\tPRIMARY KEY (quote_id, product_id)\n",
    ");"
   ]
  },
  {
   "cell_type": "code",
   "execution_count": null,
   "metadata": {
    "vscode": {
     "languageId": "sql"
    }
   },
   "outputs": [],
   "source": [
    "CREATE TABLE customer(\n",
    "\tcustomer_id INT GENERATED ALWAYS AS IDENTITY,\n",
    "\tcustomer_name VARCHAR(100) NOT NULL UNIQUE,\n",
    "\tcustomer_address VARCHAR(100),\n",
    "\ttax_no BIGINT NOT NULL,\n",
    "\tPRIMARY KEY(customer_id)\n",
    ");"
   ]
  },
  {
   "cell_type": "code",
   "execution_count": null,
   "metadata": {
    "vscode": {
     "languageId": "sql"
    }
   },
   "outputs": [],
   "source": [
    "CREATE TABLE employee(\n",
    "\temp_id INT GENERATED ALWAYS AS IDENTITY,\n",
    "\temp_name VARCHAR(40) NOT NULL,\n",
    "\temp_lastName VARCHAR(60) NOT NULL,\n",
    "\tPRIMARY KEY(emp_id)\n",
    ");"
   ]
  },
  {
   "cell_type": "code",
   "execution_count": null,
   "metadata": {
    "vscode": {
     "languageId": "sql"
    }
   },
   "outputs": [],
   "source": [
    "CREATE TABLE supplier(\n",
    "\tsupplier_id INT GENERATED ALWAYS AS IDENTITY,\n",
    "\tsupplier_name VARCHAR(40) NOT NULL UNIQUE,\n",
    "\tsupplier_address VARCHAR(100),\n",
    "\ttax_no INT NOT NULL,\n",
    "\tPRIMARY KEY(supplier_id)\n",
    ");"
   ]
  },
  {
   "cell_type": "markdown",
   "metadata": {},
   "source": [
    "Add constraint"
   ]
  },
  {
   "cell_type": "code",
   "execution_count": null,
   "metadata": {
    "vscode": {
     "languageId": "sql"
    }
   },
   "outputs": [],
   "source": [
    "\n",
    "ALTER TABLE quotation\n",
    "ADD CONSTRAINT fk_emp\n",
    "FOREIGN KEY (employee_id)\n",
    "REFERENCES employee (emp_id);\n",
    "\n",
    "ALTER TABLE quotation\n",
    "ADD CONSTRAINT fk_cust\n",
    "FOREIGN KEY (customer_id)\n",
    "REFERENCES customer (customer_id);\n",
    "\n",
    "ALTER TABLE quotation\n",
    "ADD CONSTRAINT fk_supp\n",
    "FOREIGN KEY (supplier_id)\n",
    "REFERENCES supplier (supplier_id);"
   ]
  }
 ],
 "metadata": {
  "kernelspec": {
   "display_name": "Python 3",
   "language": "python",
   "name": "python3"
  },
  "language_info": {
   "name": "python",
   "version": "3.11.6"
  }
 },
 "nbformat": 4,
 "nbformat_minor": 2
}
